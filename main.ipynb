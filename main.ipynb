{
 "cells": [
  {
   "cell_type": "code",
   "execution_count": null,
   "metadata": {},
   "outputs": [],
   "source": [
    "%pip install numpy, transformers, torch, numpy, huggingface_hub, datasets"
   ]
  },
  {
   "cell_type": "code",
   "execution_count": 1,
   "metadata": {},
   "outputs": [
    {
     "name": "stderr",
     "output_type": "stream",
     "text": [
      "/Library/Frameworks/Python.framework/Versions/3.10/lib/python3.10/site-packages/tqdm/auto.py:21: TqdmWarning: IProgress not found. Please update jupyter and ipywidgets. See https://ipywidgets.readthedocs.io/en/stable/user_install.html\n",
      "  from .autonotebook import tqdm as notebook_tqdm\n"
     ]
    }
   ],
   "source": [
    "import numpy as np\n",
    "from transformers import pipeline\n",
    "from collections import defaultdict\n",
    "import torch"
   ]
  },
  {
   "cell_type": "code",
   "execution_count": 2,
   "metadata": {},
   "outputs": [],
   "source": [
    "from datasets import load_dataset\n",
    "data = load_dataset(\"zhengyun21/PMC-Patients\")"
   ]
  },
  {
   "cell_type": "code",
   "execution_count": 4,
   "metadata": {},
   "outputs": [],
   "source": [
    "from huggingface_hub import HfFolder\n",
    "token = HfFolder.get_token()\n",
    "\n",
    "pretrained_model_name = \"chaoyi-wu/PMC_LLAMA_7B\"\n",
    "llama_model_name = \"meta-llama/Llama-3.2-1B\"\n",
    "model_name = llama_model_name if token else pretrained_model_name\n",
    "# model_name = pretrained_model_name\n",
    "pipe = pipeline(\"text-generation\", model=model_name, device=0 if torch.cuda.is_available() else -1)"
   ]
  },
  {
   "cell_type": "code",
   "execution_count": null,
   "metadata": {},
   "outputs": [],
   "source": [
    "# TODO: Add finetuning"
   ]
  },
  {
   "cell_type": "code",
   "execution_count": 8,
   "metadata": {},
   "outputs": [],
   "source": [
    "# Extract medical entities from the clinical note\n",
    "# Classify them into conditions, treatments, and outcomes\n",
    "def named_entity_recognition(title, note):\n",
    "    prompt = f\"\"\"\n",
    "Clinical Note: {note}\n",
    "You are a specialized medical language model designed to extract critical information from clinical notes. Given the clinical note, identify and extract the following entities:\n",
    "\n",
    "Symptoms: Physical or psychological conditions reported by the patient.\n",
    "Diagnoses: Medical conditions or diseases identified by the clinician.\n",
    "Treatments/Medications: Procedures, therapies, or drugs mentioned.\n",
    "Outcomes: Observations or indications of the patient's response to treatment or prognosis\n",
    "Return the extracted entities categorized into the corresponding groups. Use accurate medical terminology, and only include entities explicitly or implicitly mentioned in the text.\n",
    "Example Input:\n",
    "\"Patient reports severe fatigue and joint pain. Diagnosed with rheumatoid arthritis. Prescribed methotrexate. Follow-up shows improved joint mobility but persistent mild fatigue. Recent ESR levels have decreased but are still elevated.\"\n",
    "Expected Output:\n",
    "Entities:\n",
    "Symptoms: severe fatigue, joint pain\n",
    "Diagnoses: rheumatoid arthritis\n",
    "Treatments/Medications: methotrexate\n",
    "Outcomes: improved joint mobility, persistent mild fatigue\n",
    "    \"\"\"\n",
    "    result = pipe(prompt, max_new_tokens=25, num_return_sequences=1)\n",
    "    print(result)\n",
    "    entities = result[0][\"generated_text\"].split(\"Entities:\")[-1].strip()\n",
    "    return entities"
   ]
  },
  {
   "cell_type": "code",
   "execution_count": 9,
   "metadata": {},
   "outputs": [],
   "source": [
    "# Determine the patient's recovery risk sentiment\n",
    "# Positive (low risk), neutral (medium risk), or negative (high risk)\n",
    "def sentiment_analysis(note, entities):\n",
    "    prompt = f\"\"\"\n",
    "You are an expert medical language model tasked with analyzing clinical notes to determine patient recovery outcomes. Given a clinical note and extracted entities, assess the sentiment of the note with respect to the patient's recovery risk.\n",
    "Clinical Note: {note}\n",
    "Entities: {entities}\n",
    "Assess the sentiment of the clinical note with respect to the patient's recovery risk.\n",
    "Positive: Indicators of improvement or a high likelihood of recovery.\n",
    "Neutral: Indicators of stability or uncertain outcomes.\n",
    "Negative: Indicators of deterioration or a low likelihood of recovery.\n",
    "Example Input:\n",
    "\"Patient presents with severe dyspnea and elevated BNP levels. Treatment initiated with diuretics shows mild improvement. However, recurring chest pain persists, and cardiac markers remain elevated.\"\n",
    "Expected Output:\n",
    "Sentiment: Neutral\n",
    "    \"\"\"\n",
    "    result = pipe(prompt, max_new_tokens=10, num_return_sequences=1)\n",
    "    print(result)\n",
    "    return result[0][\"generated_text\"].split(\"Sentiment:\")[-1].strip()"
   ]
  },
  {
   "cell_type": "code",
   "execution_count": 10,
   "metadata": {},
   "outputs": [
    {
     "name": "stderr",
     "output_type": "stream",
     "text": [
      "Setting `pad_token_id` to `eos_token_id`:None for open-end generation.\n",
      "Setting `pad_token_id` to `eos_token_id`:None for open-end generation.\n"
     ]
    },
    {
     "name": "stdout",
     "output_type": "stream",
     "text": [
      "[{'generated_text': '\\nClinical Note: This 60-year-old male was hospitalized due to moderate ARDS from COVID-19 with symptoms of fever, dry cough, and dyspnea. We encountered several difficulties during physical therapy on the acute ward. First, any change of position or deep breathing triggered coughing attacks that induced oxygen desaturation and dyspnea. To avoid rapid deterioration and respiratory failure, we instructed and performed position changes very slowly and step-by-step. In this way, a position change to the 135° prone position () took around 30 minutes. This approach was well tolerated and increased oxygen saturation, for example, on day 5 with 6 L/min of oxygen from 93% to 97%. Second, we had to adapt the breathing exercises to avoid prolonged coughing and oxygen desaturation. Accordingly, we instructed the patient to stop every deep breath before the need to cough and to hold inspiration for better air distribution. In this manner, the patient performed the breathing exercises well and managed to increase his oxygen saturation. Third, the patient had difficulty maintaining sufficient oxygen saturation during physical activity. However, with close monitoring and frequent breaks, he managed to perform strength and walking exercises at a low level without any significant deoxygenation. Exercise progression was low on days 1 to 5, but then increased daily until hospital discharge to a rehabilitation clinic on day 10.\\nYou are a specialized medical language model designed to extract critical information from clinical notes. Given the clinical note, identify and extract the following entities:\\n\\nSymptoms: Physical or psychological conditions reported by the patient.\\nDiagnoses: Medical conditions or diseases identified by the clinician.\\nTreatments/Medications: Procedures, therapies, or drugs mentioned.\\nOutcomes: Observations or indications of the patient\\'s response to treatment or prognosis\\n\\nReturn the extracted entities categorized into the corresponding groups. Use accurate medical terminology, and only include entities explicitly or implicitly mentioned in the text.\\n\\nExample Input:\\n\"Patient reports severe fatigue and joint pain. Diagnosed with rheumatoid arthritis. Prescribed methotrexate. Follow-up shows improved joint mobility but persistent mild fatigue. Recent ESR levels have decreased but are still elevated.\"\\n\\nExpected Output:\\n\\nSymptoms: severe fatigue, joint pain\\nDiagnoses: rheumatoid arthritis\\nTreatments/Medications: methotrexate\\nOutcomes: improved joint mobility, persistent mild fatigue\\n     Recent ESR levels have decreased but are still elevated\\n'}, {'generated_text': '\\nClinical Note: This 60-year-old male was hospitalized due to moderate ARDS from COVID-19 with symptoms of fever, dry cough, and dyspnea. We encountered several difficulties during physical therapy on the acute ward. First, any change of position or deep breathing triggered coughing attacks that induced oxygen desaturation and dyspnea. To avoid rapid deterioration and respiratory failure, we instructed and performed position changes very slowly and step-by-step. In this way, a position change to the 135° prone position () took around 30 minutes. This approach was well tolerated and increased oxygen saturation, for example, on day 5 with 6 L/min of oxygen from 93% to 97%. Second, we had to adapt the breathing exercises to avoid prolonged coughing and oxygen desaturation. Accordingly, we instructed the patient to stop every deep breath before the need to cough and to hold inspiration for better air distribution. In this manner, the patient performed the breathing exercises well and managed to increase his oxygen saturation. Third, the patient had difficulty maintaining sufficient oxygen saturation during physical activity. However, with close monitoring and frequent breaks, he managed to perform strength and walking exercises at a low level without any significant deoxygenation. Exercise progression was low on days 1 to 5, but then increased daily until hospital discharge to a rehabilitation clinic on day 10.\\nYou are a specialized medical language model designed to extract critical information from clinical notes. Given the clinical note, identify and extract the following entities:\\n\\nSymptoms: Physical or psychological conditions reported by the patient.\\nDiagnoses: Medical conditions or diseases identified by the clinician.\\nTreatments/Medications: Procedures, therapies, or drugs mentioned.\\nOutcomes: Observations or indications of the patient\\'s response to treatment or prognosis\\n\\nReturn the extracted entities categorized into the corresponding groups. Use accurate medical terminology, and only include entities explicitly or implicitly mentioned in the text.\\n\\nExample Input:\\n\"Patient reports severe fatigue and joint pain. Diagnosed with rheumatoid arthritis. Prescribed methotrexate. Follow-up shows improved joint mobility but persistent mild fatigue. Recent ESR levels have decreased but are still elevated.\"\\n\\nExpected Output:\\n\\nSymptoms: severe fatigue, joint pain\\nDiagnoses: rheumatoid arthritis\\nTreatments/Medications: methotrexate\\nOutcomes: improved joint mobility, persistent mild fatigue\\n     recent ESR levels have decreased but are still elevated\\n\\nExample Input:\\n\"Patient reports severe fatigue and joint pain. Diagn'}]\n",
      "[{'generated_text': '\\nYou are an expert medical language model tasked with analyzing clinical notes to determine patient recovery outcomes. Given a clinical note and extracted entities, assess the sentiment of the note with respect to the patient\\'s recovery risk.\\nClinical Note: This 60-year-old male was hospitalized due to moderate ARDS from COVID-19 with symptoms of fever, dry cough, and dyspnea. We encountered several difficulties during physical therapy on the acute ward. First, any change of position or deep breathing triggered coughing attacks that induced oxygen desaturation and dyspnea. To avoid rapid deterioration and respiratory failure, we instructed and performed position changes very slowly and step-by-step. In this way, a position change to the 135° prone position () took around 30 minutes. This approach was well tolerated and increased oxygen saturation, for example, on day 5 with 6 L/min of oxygen from 93% to 97%. Second, we had to adapt the breathing exercises to avoid prolonged coughing and oxygen desaturation. Accordingly, we instructed the patient to stop every deep breath before the need to cough and to hold inspiration for better air distribution. In this manner, the patient performed the breathing exercises well and managed to increase his oxygen saturation. Third, the patient had difficulty maintaining sufficient oxygen saturation during physical activity. However, with close monitoring and frequent breaks, he managed to perform strength and walking exercises at a low level without any significant deoxygenation. Exercise progression was low on days 1 to 5, but then increased daily until hospital discharge to a rehabilitation clinic on day 10.\\nEntities: Clinical Note: This 60-year-old male was hospitalized due to moderate ARDS from COVID-19 with symptoms of fever, dry cough, and dyspnea. We encountered several difficulties during physical therapy on the acute ward. First, any change of position or deep breathing triggered coughing attacks that induced oxygen desaturation and dyspnea. To avoid rapid deterioration and respiratory failure, we instructed and performed position changes very slowly and step-by-step. In this way, a position change to the 135° prone position () took around 30 minutes. This approach was well tolerated and increased oxygen saturation, for example, on day 5 with 6 L/min of oxygen from 93% to 97%. Second, we had to adapt the breathing exercises to avoid prolonged coughing and oxygen desaturation. Accordingly, we instructed the patient to stop every deep breath before the need to cough and to hold inspiration for better air distribution. In this manner, the patient performed the breathing exercises well and managed to increase his oxygen saturation. Third, the patient had difficulty maintaining sufficient oxygen saturation during physical activity. However, with close monitoring and frequent breaks, he managed to perform strength and walking exercises at a low level without any significant deoxygenation. Exercise progression was low on days 1 to 5, but then increased daily until hospital discharge to a rehabilitation clinic on day 10.\\nYou are a specialized medical language model designed to extract critical information from clinical notes. Given the clinical note, identify and extract the following entities:\\n\\nSymptoms: Physical or psychological conditions reported by the patient.\\nDiagnoses: Medical conditions or diseases identified by the clinician.\\nTreatments/Medications: Procedures, therapies, or drugs mentioned.\\nOutcomes: Observations or indications of the patient\\'s response to treatment or prognosis\\n\\nReturn the extracted entities categorized into the corresponding groups. Use accurate medical terminology, and only include entities explicitly or implicitly mentioned in the text.\\n\\nExample Input:\\n\"Patient reports severe fatigue and joint pain. Diagnosed with rheumatoid arthritis. Prescribed methotrexate. Follow-up shows improved joint mobility but persistent mild fatigue. Recent ESR levels have decreased but are still elevated.\"\\n\\nExpected Output:\\n\\nSymptoms: severe fatigue, joint pain\\nDiagnoses: rheumatoid arthritis\\nTreatments/Medications: methotrexate\\nOutcomes: improved joint mobility, persistent mild fatigue\\n     Recent ESR levels have decreased but are still elevated\\nAssess the sentiment of the clinical note with respect to the patient\\'s recovery risk.\\nPositive: Indicators of improvement or a high likelihood of recovery.\\nNeutral: Indicators of stability or uncertain outcomes.\\nNegative: Indicators of deterioration or a low likelihood of recovery.\\n\\nExample Input:\\n\"Patient presents with severe dyspnea and elevated BNP levels. Treatment initiated with diuretics shows mild improvement. However, recurring chest pain persists, and cardiac markers remain elevated.\"\\n\\nExpected Output:\\n\\nSentiment: Neutral\\n     Indicators of stability or uncertain outcomes.\\n     Recent'}, {'generated_text': '\\nYou are an expert medical language model tasked with analyzing clinical notes to determine patient recovery outcomes. Given a clinical note and extracted entities, assess the sentiment of the note with respect to the patient\\'s recovery risk.\\nClinical Note: This 60-year-old male was hospitalized due to moderate ARDS from COVID-19 with symptoms of fever, dry cough, and dyspnea. We encountered several difficulties during physical therapy on the acute ward. First, any change of position or deep breathing triggered coughing attacks that induced oxygen desaturation and dyspnea. To avoid rapid deterioration and respiratory failure, we instructed and performed position changes very slowly and step-by-step. In this way, a position change to the 135° prone position () took around 30 minutes. This approach was well tolerated and increased oxygen saturation, for example, on day 5 with 6 L/min of oxygen from 93% to 97%. Second, we had to adapt the breathing exercises to avoid prolonged coughing and oxygen desaturation. Accordingly, we instructed the patient to stop every deep breath before the need to cough and to hold inspiration for better air distribution. In this manner, the patient performed the breathing exercises well and managed to increase his oxygen saturation. Third, the patient had difficulty maintaining sufficient oxygen saturation during physical activity. However, with close monitoring and frequent breaks, he managed to perform strength and walking exercises at a low level without any significant deoxygenation. Exercise progression was low on days 1 to 5, but then increased daily until hospital discharge to a rehabilitation clinic on day 10.\\nEntities: Clinical Note: This 60-year-old male was hospitalized due to moderate ARDS from COVID-19 with symptoms of fever, dry cough, and dyspnea. We encountered several difficulties during physical therapy on the acute ward. First, any change of position or deep breathing triggered coughing attacks that induced oxygen desaturation and dyspnea. To avoid rapid deterioration and respiratory failure, we instructed and performed position changes very slowly and step-by-step. In this way, a position change to the 135° prone position () took around 30 minutes. This approach was well tolerated and increased oxygen saturation, for example, on day 5 with 6 L/min of oxygen from 93% to 97%. Second, we had to adapt the breathing exercises to avoid prolonged coughing and oxygen desaturation. Accordingly, we instructed the patient to stop every deep breath before the need to cough and to hold inspiration for better air distribution. In this manner, the patient performed the breathing exercises well and managed to increase his oxygen saturation. Third, the patient had difficulty maintaining sufficient oxygen saturation during physical activity. However, with close monitoring and frequent breaks, he managed to perform strength and walking exercises at a low level without any significant deoxygenation. Exercise progression was low on days 1 to 5, but then increased daily until hospital discharge to a rehabilitation clinic on day 10.\\nYou are a specialized medical language model designed to extract critical information from clinical notes. Given the clinical note, identify and extract the following entities:\\n\\nSymptoms: Physical or psychological conditions reported by the patient.\\nDiagnoses: Medical conditions or diseases identified by the clinician.\\nTreatments/Medications: Procedures, therapies, or drugs mentioned.\\nOutcomes: Observations or indications of the patient\\'s response to treatment or prognosis\\n\\nReturn the extracted entities categorized into the corresponding groups. Use accurate medical terminology, and only include entities explicitly or implicitly mentioned in the text.\\n\\nExample Input:\\n\"Patient reports severe fatigue and joint pain. Diagnosed with rheumatoid arthritis. Prescribed methotrexate. Follow-up shows improved joint mobility but persistent mild fatigue. Recent ESR levels have decreased but are still elevated.\"\\n\\nExpected Output:\\n\\nSymptoms: severe fatigue, joint pain\\nDiagnoses: rheumatoid arthritis\\nTreatments/Medications: methotrexate\\nOutcomes: improved joint mobility, persistent mild fatigue\\n     Recent ESR levels have decreased but are still elevated\\nAssess the sentiment of the clinical note with respect to the patient\\'s recovery risk.\\nPositive: Indicators of improvement or a high likelihood of recovery.\\nNeutral: Indicators of stability or uncertain outcomes.\\nNegative: Indicators of deterioration or a low likelihood of recovery.\\n\\nExample Input:\\n\"Patient presents with severe dyspnea and elevated BNP levels. Treatment initiated with diuretics shows mild improvement. However, recurring chest pain persists, and cardiac markers remain elevated.\"\\n\\nExpected Output:\\n\\nSentiment: Neutral\\n     Recurring chest pain persists, and cardiac markers remain'}, {'generated_text': '\\nYou are an expert medical language model tasked with analyzing clinical notes to determine patient recovery outcomes. Given a clinical note and extracted entities, assess the sentiment of the note with respect to the patient\\'s recovery risk.\\nClinical Note: This 60-year-old male was hospitalized due to moderate ARDS from COVID-19 with symptoms of fever, dry cough, and dyspnea. We encountered several difficulties during physical therapy on the acute ward. First, any change of position or deep breathing triggered coughing attacks that induced oxygen desaturation and dyspnea. To avoid rapid deterioration and respiratory failure, we instructed and performed position changes very slowly and step-by-step. In this way, a position change to the 135° prone position () took around 30 minutes. This approach was well tolerated and increased oxygen saturation, for example, on day 5 with 6 L/min of oxygen from 93% to 97%. Second, we had to adapt the breathing exercises to avoid prolonged coughing and oxygen desaturation. Accordingly, we instructed the patient to stop every deep breath before the need to cough and to hold inspiration for better air distribution. In this manner, the patient performed the breathing exercises well and managed to increase his oxygen saturation. Third, the patient had difficulty maintaining sufficient oxygen saturation during physical activity. However, with close monitoring and frequent breaks, he managed to perform strength and walking exercises at a low level without any significant deoxygenation. Exercise progression was low on days 1 to 5, but then increased daily until hospital discharge to a rehabilitation clinic on day 10.\\nEntities: Clinical Note: This 60-year-old male was hospitalized due to moderate ARDS from COVID-19 with symptoms of fever, dry cough, and dyspnea. We encountered several difficulties during physical therapy on the acute ward. First, any change of position or deep breathing triggered coughing attacks that induced oxygen desaturation and dyspnea. To avoid rapid deterioration and respiratory failure, we instructed and performed position changes very slowly and step-by-step. In this way, a position change to the 135° prone position () took around 30 minutes. This approach was well tolerated and increased oxygen saturation, for example, on day 5 with 6 L/min of oxygen from 93% to 97%. Second, we had to adapt the breathing exercises to avoid prolonged coughing and oxygen desaturation. Accordingly, we instructed the patient to stop every deep breath before the need to cough and to hold inspiration for better air distribution. In this manner, the patient performed the breathing exercises well and managed to increase his oxygen saturation. Third, the patient had difficulty maintaining sufficient oxygen saturation during physical activity. However, with close monitoring and frequent breaks, he managed to perform strength and walking exercises at a low level without any significant deoxygenation. Exercise progression was low on days 1 to 5, but then increased daily until hospital discharge to a rehabilitation clinic on day 10.\\nYou are a specialized medical language model designed to extract critical information from clinical notes. Given the clinical note, identify and extract the following entities:\\n\\nSymptoms: Physical or psychological conditions reported by the patient.\\nDiagnoses: Medical conditions or diseases identified by the clinician.\\nTreatments/Medications: Procedures, therapies, or drugs mentioned.\\nOutcomes: Observations or indications of the patient\\'s response to treatment or prognosis\\n\\nReturn the extracted entities categorized into the corresponding groups. Use accurate medical terminology, and only include entities explicitly or implicitly mentioned in the text.\\n\\nExample Input:\\n\"Patient reports severe fatigue and joint pain. Diagnosed with rheumatoid arthritis. Prescribed methotrexate. Follow-up shows improved joint mobility but persistent mild fatigue. Recent ESR levels have decreased but are still elevated.\"\\n\\nExpected Output:\\n\\nSymptoms: severe fatigue, joint pain\\nDiagnoses: rheumatoid arthritis\\nTreatments/Medications: methotrexate\\nOutcomes: improved joint mobility, persistent mild fatigue\\n     Recent ESR levels have decreased but are still elevated\\nAssess the sentiment of the clinical note with respect to the patient\\'s recovery risk.\\nPositive: Indicators of improvement or a high likelihood of recovery.\\nNeutral: Indicators of stability or uncertain outcomes.\\nNegative: Indicators of deterioration or a low likelihood of recovery.\\n\\nExample Input:\\n\"Patient presents with severe dyspnea and elevated BNP levels. Treatment initiated with diuretics shows mild improvement. However, recurring chest pain persists, and cardiac markers remain elevated.\"\\n\\nExpected Output:\\n\\nSentiment: Neutral\\n     Indicators of stability or uncertain outcomes.\\n'}]\n",
      "Clinical Note: This 60-year-old male was hospitalized due to moderate ARDS from COVID-19 with symptoms of fever, dry cough, and dyspnea. We encountered several difficulties during physical therapy on the acute ward. First, any change of position or deep breathing triggered coughing attacks that induced oxygen desaturation and dyspnea. To avoid rapid deterioration and respiratory failure, we instructed and performed position changes very slowly and step-by-step. In this way, a position change to the 135° prone position () took around 30 minutes. This approach was well tolerated and increased oxygen saturation, for example, on day 5 with 6 L/min of oxygen from 93% to 97%. Second, we had to adapt the breathing exercises to avoid prolonged coughing and oxygen desaturation. Accordingly, we instructed the patient to stop every deep breath before the need to cough and to hold inspiration for better air distribution. In this manner, the patient performed the breathing exercises well and managed to increase his oxygen saturation. Third, the patient had difficulty maintaining sufficient oxygen saturation during physical activity. However, with close monitoring and frequent breaks, he managed to perform strength and walking exercises at a low level without any significant deoxygenation. Exercise progression was low on days 1 to 5, but then increased daily until hospital discharge to a rehabilitation clinic on day 10.\n",
      "You are a specialized medical language model designed to extract critical information from clinical notes. Given the clinical note, identify and extract the following entities:\n",
      "\n",
      "Symptoms: Physical or psychological conditions reported by the patient.\n",
      "Diagnoses: Medical conditions or diseases identified by the clinician.\n",
      "Treatments/Medications: Procedures, therapies, or drugs mentioned.\n",
      "Outcomes: Observations or indications of the patient's response to treatment or prognosis\n",
      "\n",
      "Return the extracted entities categorized into the corresponding groups. Use accurate medical terminology, and only include entities explicitly or implicitly mentioned in the text.\n",
      "\n",
      "Example Input:\n",
      "\"Patient reports severe fatigue and joint pain. Diagnosed with rheumatoid arthritis. Prescribed methotrexate. Follow-up shows improved joint mobility but persistent mild fatigue. Recent ESR levels have decreased but are still elevated.\"\n",
      "\n",
      "Expected Output:\n",
      "\n",
      "Symptoms: severe fatigue, joint pain\n",
      "Diagnoses: rheumatoid arthritis\n",
      "Treatments/Medications: methotrexate\n",
      "Outcomes: improved joint mobility, persistent mild fatigue\n",
      "     Recent ESR levels have decreased but are still elevated\n",
      "Neutral\n",
      "     Indicators of stability or uncertain outcomes.\n",
      "     Recent\n"
     ]
    }
   ],
   "source": [
    "labeled_notes = []\n",
    "for i, entry in enumerate(data[\"train\"]):\n",
    "    title = entry[\"title\"]\n",
    "    note = entry[\"patient\"]\n",
    "    entities = named_entity_recognition(title, note)\n",
    "    sentiment = sentiment_analysis(note, entities)\n",
    "    labeled_notes.append({\"title\": title, \"note\": note, \"entities\": entities, \"sentiment\": sentiment})\n",
    "    break\n",
    "print(labeled_notes[0][\"entities\"])\n",
    "print(labeled_notes[0][\"sentiment\"])"
   ]
  },
  {
   "cell_type": "code",
   "execution_count": null,
   "metadata": {},
   "outputs": [],
   "source": [
    "entity_sentiment_map = defaultdict(lambda: {\"positive\": 0, \"neutral\": 0, \"negative\": 0})\n",
    "\n",
    "for entry in labeled_notes:\n",
    "    sentiment = entry[\"sentiment\"]\n",
    "    entities = entry[\"entities\"]\n",
    "    for entity in entities:\n",
    "        entity_sentiment_map[entity][sentiment] += 1"
   ]
  }
 ],
 "metadata": {
  "kernelspec": {
   "display_name": "Python 3",
   "language": "python",
   "name": "python3"
  },
  "language_info": {
   "codemirror_mode": {
    "name": "ipython",
    "version": 3
   },
   "file_extension": ".py",
   "mimetype": "text/x-python",
   "name": "python",
   "nbconvert_exporter": "python",
   "pygments_lexer": "ipython3",
   "version": "3.10.2"
  },
  "orig_nbformat": 4
 },
 "nbformat": 4,
 "nbformat_minor": 2
}
